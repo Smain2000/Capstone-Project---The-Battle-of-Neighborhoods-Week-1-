{
 "cells": [
  {
   "cell_type": "markdown",
   "metadata": {},
   "source": [
    "## Trying to find right and strategic location for new coffee shop in Doha - Qatar"
   ]
  },
  {
   "cell_type": "code",
   "execution_count": null,
   "metadata": {},
   "outputs": [],
   "source": [
    "# Business Problem"
   ]
  },
  {
   "cell_type": "code",
   "execution_count": null,
   "metadata": {},
   "outputs": [],
   "source": [
    "First of all it's not a functional problem which need to be resolved.\n",
    "The target is about of small project to find a suitable and the right location to open a Coffee Shop in Doha-Qatar.\n",
    "The Coffee Shop have a specificity of take away service.\n",
    "This type of service is in the list of services offered by the existing Shops in the Supermarkets. however we will make our Shop unique by offering only this Service\n",
    "it will help the customers to choose by default our Shop as we have the total energy and quality focus only on this option. \n",
    "The prerequisites for it :\n",
    "    - Accessible to customers.\n",
    "    - Near by a supermarket.\n",
    "    - List all the coffee shops in the supermarkets\n",
    "    \n",
    "The required tools to achieve this goals :\n",
    "    - Pyhton Libraries.\n",
    "    - Geopy\n",
    "    - Folium.\n",
    "    - Foursquare API.\n",
    "    - K-means\n",
    "\n",
    "To find a suitable location will help me to achieve my business project and open my own Coffee Shop."
   ]
  },
  {
   "cell_type": "code",
   "execution_count": null,
   "metadata": {},
   "outputs": [],
   "source": [
    "# Data "
   ]
  },
  {
   "cell_type": "code",
   "execution_count": null,
   "metadata": {},
   "outputs": [],
   "source": [
    "The necessary data for this project to the above requirements:\n",
    "    - Geo Data for the city.\n",
    "    - The list of supermarkets existing in the city.\n",
    "    - The list of the exisiting Coffee shops in the supermarkets with distance parameters fron the supermarket.\n",
    "    \n",
    "Doha-Qatar, will be considered as the central location, using the Geopy the geospatial coordinates will be used on Foursquare API to retrieve the Supermarkets category in the city.\n",
    "after wranling and cleaning the obtained data, will locate the existing coffee shops and distance frm each supermarket.\n",
    "from the last dataframe will use K-means to cluster the area.\n",
    "For Example, In Doha the Supermarket chain we have Carrefour, Monoprix chain and other local brand of supermarket.\n",
    "We will retrieve the Coffee shops list near to the above and we will pop up the cluster to be able to judge and decide which location and supermarket is suitable to run our business."
   ]
  }
 ],
 "metadata": {
  "kernelspec": {
   "display_name": "Python",
   "language": "python",
   "name": "conda-env-python-py"
  },
  "language_info": {
   "codemirror_mode": {
    "name": "ipython",
    "version": 3
   },
   "file_extension": ".py",
   "mimetype": "text/x-python",
   "name": "python",
   "nbconvert_exporter": "python",
   "pygments_lexer": "ipython3",
   "version": "3.6.11"
  }
 },
 "nbformat": 4,
 "nbformat_minor": 4
}
